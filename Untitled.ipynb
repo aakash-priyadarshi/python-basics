{
 "cells": [
  {
   "cell_type": "code",
   "execution_count": 1,
   "id": "dda7bf09-3cc1-4d0b-b56b-8a6162798cf7",
   "metadata": {},
   "outputs": [
    {
     "data": {
      "text/plain": [
       "3"
      ]
     },
     "execution_count": 1,
     "metadata": {},
     "output_type": "execute_result"
    }
   ],
   "source": [
    "1+2"
   ]
  },
  {
   "cell_type": "code",
   "execution_count": 2,
   "id": "5aca87e1-4b92-44f5-87e3-71dd61c45fc9",
   "metadata": {},
   "outputs": [
    {
     "name": "stdout",
     "output_type": "stream",
     "text": [
      "hi\n"
     ]
    }
   ],
   "source": [
    "print(\"hi\")"
   ]
  },
  {
   "cell_type": "code",
   "execution_count": 3,
   "id": "be7073ba-86bc-4a91-b841-5be6e99c0374",
   "metadata": {},
   "outputs": [
    {
     "data": {
      "text/plain": [
       "7"
      ]
     },
     "execution_count": 3,
     "metadata": {},
     "output_type": "execute_result"
    }
   ],
   "source": [
    "1+6"
   ]
  },
  {
   "cell_type": "code",
   "execution_count": 4,
   "id": "2441cd13-25e8-4cc2-bcd1-97a5d6061025",
   "metadata": {},
   "outputs": [
    {
     "data": {
      "text/plain": [
       "6"
      ]
     },
     "execution_count": 4,
     "metadata": {},
     "output_type": "execute_result"
    }
   ],
   "source": [
    "8-2"
   ]
  },
  {
   "cell_type": "code",
   "execution_count": 5,
   "id": "4d7ded31-9d5c-4164-afae-768c3747ffbb",
   "metadata": {},
   "outputs": [
    {
     "data": {
      "text/plain": [
       "3.0"
      ]
     },
     "execution_count": 5,
     "metadata": {},
     "output_type": "execute_result"
    }
   ],
   "source": [
    "6/2"
   ]
  },
  {
   "cell_type": "code",
   "execution_count": 6,
   "id": "4baf658a-9d3e-4a14-81a2-cc4b7c4f9803",
   "metadata": {},
   "outputs": [
    {
     "data": {
      "text/plain": [
       "42"
      ]
     },
     "execution_count": 6,
     "metadata": {},
     "output_type": "execute_result"
    }
   ],
   "source": [
    "6*7"
   ]
  },
  {
   "cell_type": "code",
   "execution_count": 8,
   "id": "b6bfe8a2-f175-4adf-a0a2-e6188b43e46e",
   "metadata": {},
   "outputs": [
    {
     "data": {
      "text/plain": [
       "1.0"
      ]
     },
     "execution_count": 8,
     "metadata": {},
     "output_type": "execute_result"
    }
   ],
   "source": [
    "float(4/4)"
   ]
  },
  {
   "cell_type": "code",
   "execution_count": 10,
   "id": "7aa4efd6-293d-48c1-842c-978509ddf8cb",
   "metadata": {},
   "outputs": [
    {
     "data": {
      "text/plain": [
       "2.0"
      ]
     },
     "execution_count": 10,
     "metadata": {},
     "output_type": "execute_result"
    }
   ],
   "source": [
    "8/4"
   ]
  },
  {
   "cell_type": "code",
   "execution_count": 11,
   "id": "057860ab-be3d-4272-a364-57a704417435",
   "metadata": {},
   "outputs": [
    {
     "data": {
      "text/plain": [
       "-4"
      ]
     },
     "execution_count": 11,
     "metadata": {},
     "output_type": "execute_result"
    }
   ],
   "source": [
    "5-9"
   ]
  },
  {
   "cell_type": "code",
   "execution_count": 12,
   "id": "cf3d177f-cfda-4d1f-b6f5-0f62973a6f77",
   "metadata": {},
   "outputs": [
    {
     "data": {
      "text/plain": [
       "-4.0"
      ]
     },
     "execution_count": 12,
     "metadata": {},
     "output_type": "execute_result"
    }
   ],
   "source": [
    "float(5-9)"
   ]
  },
  {
   "cell_type": "code",
   "execution_count": 13,
   "id": "528b56f3-456a-44ee-8a06-117487e2de9f",
   "metadata": {},
   "outputs": [],
   "source": [
    "a=4"
   ]
  },
  {
   "cell_type": "code",
   "execution_count": 14,
   "id": "dc81ae48-3a16-4a6e-a687-54c1433b831c",
   "metadata": {},
   "outputs": [],
   "source": [
    "b=8\n"
   ]
  },
  {
   "cell_type": "code",
   "execution_count": 15,
   "id": "012800ba-3e67-4eac-aea7-2aa815d5cb14",
   "metadata": {},
   "outputs": [
    {
     "data": {
      "text/plain": [
       "12"
      ]
     },
     "execution_count": 15,
     "metadata": {},
     "output_type": "execute_result"
    }
   ],
   "source": [
    "a+b"
   ]
  },
  {
   "cell_type": "markdown",
   "id": "4b5f3a68-efb7-4fde-a844-0616661ae9a5",
   "metadata": {},
   "source": [
    "# Prime number"
   ]
  },
  {
   "cell_type": "markdown",
   "id": "5e2442a2-9eb1-459c-8d83-109ae3cdd3f1",
   "metadata": {},
   "source": [
    "Prime number is a type of number that has only two factorial."
   ]
  },
  {
   "cell_type": "markdown",
   "id": "3183dab0-92f4-4bcb-ad81-11345b4f08b3",
   "metadata": {},
   "source": [
    "for example: "
   ]
  },
  {
   "cell_type": "markdown",
   "id": "785c2b70-69a3-49da-9855-789bb9e0d77b",
   "metadata": {},
   "source": [
    "2,3,5,7,...etc"
   ]
  },
  {
   "cell_type": "code",
   "execution_count": null,
   "id": "1fd42339-13a0-4194-8170-0747934a1686",
   "metadata": {},
   "outputs": [],
   "source": []
  }
 ],
 "metadata": {
  "kernelspec": {
   "display_name": "Python 3 (ipykernel)",
   "language": "python",
   "name": "python3"
  },
  "language_info": {
   "codemirror_mode": {
    "name": "ipython",
    "version": 3
   },
   "file_extension": ".py",
   "mimetype": "text/x-python",
   "name": "python",
   "nbconvert_exporter": "python",
   "pygments_lexer": "ipython3",
   "version": "3.12.4"
  }
 },
 "nbformat": 4,
 "nbformat_minor": 5
}
